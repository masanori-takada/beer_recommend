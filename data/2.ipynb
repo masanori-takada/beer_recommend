{
 "cells": [
  {
   "cell_type": "code",
   "execution_count": 1,
   "metadata": {},
   "outputs": [],
   "source": [
    "# 前回のプログラムの読込\n",
    "%run 1.ipynb\n",
    "import matplotlib.pyplot as plt\n",
    "import numpy as np\n",
    "import pandas as pd\n",
    "import pickle\n",
    "\n",
    "from sklearn.neighbors import KNeighborsClassifier\n",
    "from sklearn.model_selection import train_test_split, GridSearchCV\n",
    "\n",
    "# 説明変数\n",
    "X = df.loc[:, ['abv', 'ibu']]\n",
    "# 目的変数\n",
    "y = df['Style_id']\n",
    "# トレーニングデータとテストデータに分割\n",
    "X_train, X_test, y_train, y_test = train_test_split(\n",
    "    X, y, test_size=0.3, random_state=0)"
   ]
  },
  {
   "cell_type": "code",
   "execution_count": 2,
   "metadata": {},
   "outputs": [
    {
     "name": "stderr",
     "output_type": "stream",
     "text": "/Users/takadasusumuten/opt/anaconda3/lib/python3.7/site-packages/sklearn/model_selection/_split.py:657: Warning: The least populated class in y has only 1 members, which is too few. The minimum number of members in any class cannot be less than n_splits=3.\n  % (min_groups, self.n_splits)), Warning)\n"
    },
    {
     "data": {
      "text/plain": "GridSearchCV(cv=3, error_score='raise-deprecating',\n             estimator=KNeighborsClassifier(algorithm='auto', leaf_size=30,\n                                            metric='minkowski',\n                                            metric_params=None, n_jobs=None,\n                                            n_neighbors=5, p=2,\n                                            weights='uniform'),\n             iid=False, n_jobs=None,\n             param_grid={'n_neighbors': array([ 1,  2,  3,  4,  5,  6,  7,  8,  9, 10, 11, 12, 13, 14, 15, 16, 17,\n       18, 19, 20, 21, 22, 23, 24, 25, 26, 27, 28, 29, 30])},\n             pre_dispatch='2*n_jobs', refit=True, return_train_score=False,\n             scoring='f1_micro', verbose=0)"
     },
     "execution_count": 2,
     "metadata": {},
     "output_type": "execute_result"
    }
   ],
   "source": [
    "# グリッドサーチを使ってパラメータを最適化する\n",
    "\n",
    "# グリッドサーチとは、\n",
    "# 最適化したいパラメータと分類器（ここではk近傍法分類器）、\n",
    "# 評価指標を与えるとパラメータを最適化する機能です。\n",
    "\n",
    "# 未知のデータを入力すると、\n",
    "# そのデータから距離が近い順にn個のデータのクラスを取得して\n",
    "# 多数決で未知のデータが所属するクラスを決定します。\n",
    "# 参照するデータの数はn_neighborsというパラメータで設定\n",
    "\n",
    "# n_neighborsを1から30まで設定する\n",
    "# グリッドサーチの第2引数は、dict or list of dictionaries\n",
    "parameters={\"n_neighbors\":np.arange(1,31,1)}\n",
    "\n",
    "# k近傍法分類器を取得(これの引数n_neighborsを探す)\n",
    "neigh=KNeighborsClassifier()\n",
    "\n",
    "# グリッドサーチにパラメータ、分類器を与える。モデルの良さはF値で評価する\n",
    "clf=GridSearchCV(neigh,parameters,scoring=\"f1_micro\",cv=3,iid=False)\n",
    "\n",
    "# 最適化を実行\n",
    "clf.fit(X_train,y_train)"
   ]
  },
  {
   "cell_type": "code",
   "execution_count": 3,
   "metadata": {},
   "outputs": [
    {
     "data": {
      "text/plain": "{'n_neighbors': 8}"
     },
     "execution_count": 3,
     "metadata": {},
     "output_type": "execute_result"
    }
   ],
   "source": [
    "# best_params_属性に最適化されたパラメータが入っている\n",
    "best_params=clf.best_params_\n",
    "best_params"
   ]
  },
  {
   "cell_type": "code",
   "execution_count": 4,
   "metadata": {},
   "outputs": [],
   "source": [
    "# 最適化されたn_neighborsの値を変数に代入\n",
    "best_n=best_params[\"n_neighbors\"]"
   ]
  },
  {
   "cell_type": "code",
   "execution_count": 5,
   "metadata": {},
   "outputs": [],
   "source": [
    "# 最適なパラメータを設定したk近傍法分類器を取得\n",
    "neigh=KNeighborsClassifier(n_neighbors=best_n)\n",
    "\n",
    "# トレーニングデータで学習し機械学習モデルを取得\n",
    "model=neigh.fit(X_train,y_train)"
   ]
  },
  {
   "cell_type": "code",
   "execution_count": 6,
   "metadata": {},
   "outputs": [],
   "source": [
    "# 機械学習モデルをpickle化(先回、データフレームもpickel済)\n",
    "with open(\"KNeighbors_model.pkl\",\"wb\")as f:\n",
    "    pickle.dump(model,f)"
   ]
  }
 ],
 "metadata": {
  "kernelspec": {
   "display_name": "Python 3",
   "language": "python",
   "name": "python3"
  },
  "language_info": {
   "codemirror_mode": {
    "name": "ipython",
    "version": 3
   },
   "file_extension": ".py",
   "mimetype": "text/x-python",
   "name": "python",
   "nbconvert_exporter": "python",
   "pygments_lexer": "ipython3",
   "version": "3.7.4-final"
  },
  "toc": {
   "nav_menu": {},
   "number_sections": true,
   "sideBar": true,
   "skip_h1_title": false,
   "toc_cell": false,
   "toc_position": {},
   "toc_section_display": "block",
   "toc_window_display": true
  },
  "varInspector": {
   "cols": {
    "lenName": 16,
    "lenType": 16,
    "lenVar": 40
   },
   "kernels_config": {
    "python": {
     "delete_cmd_postfix": "",
     "delete_cmd_prefix": "del ",
     "library": "var_list.py",
     "varRefreshCmd": "print(var_dic_list())"
    },
    "r": {
     "delete_cmd_postfix": ") ",
     "delete_cmd_prefix": "rm(",
     "library": "var_list.r",
     "varRefreshCmd": "cat(var_dic_list()) "
    }
   },
   "types_to_exclude": [
    "module",
    "function",
    "builtin_function_or_method",
    "instance",
    "_Feature"
   ],
   "window_display": false
  }
 },
 "nbformat": 4,
 "nbformat_minor": 4
}